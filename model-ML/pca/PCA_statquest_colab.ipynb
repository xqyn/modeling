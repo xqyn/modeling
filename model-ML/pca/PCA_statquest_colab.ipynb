{
  "nbformat": 4,
  "nbformat_minor": 0,
  "metadata": {
    "colab": {
      "name": "PCA_statquest.ipynb",
      "provenance": [],
      "authorship_tag": "ABX9TyNY0t4D8JSg/2aanF31glec",
      "include_colab_link": true
    },
    "kernelspec": {
      "name": "python3",
      "display_name": "Python 3"
    },
    "language_info": {
      "name": "python"
    }
  },
  "cells": [
    {
      "cell_type": "markdown",
      "metadata": {
        "id": "view-in-github",
        "colab_type": "text"
      },
      "source": [
        "<a href=\"https://colab.research.google.com/github/xqyn/Modeling/blob/main/model-ML/pca/PCA_statquest_colab.ipynb\" target=\"_parent\"><img src=\"https://colab.research.google.com/assets/colab-badge.svg\" alt=\"Open In Colab\"/></a>"
      ]
    },
    {
      "cell_type": "markdown",
      "source": [
        "[StatQuest: Principal Component Analysis (PCA), Step-by-Step\n",
        "](https://www.youtube.com/watch?v=Lsue2gEM9D0)"
      ],
      "metadata": {
        "id": "qmp_4qKkbP8Q"
      }
    },
    {
      "cell_type": "code",
      "execution_count": 2,
      "metadata": {
        "colab": {
          "base_uri": "https://localhost:8080/"
        },
        "id": "9UNV8Wzxar2R",
        "outputId": "10df6012-3af5-43cb-fa8c-241a19871459"
      },
      "outputs": [
        {
          "output_type": "stream",
          "name": "stdout",
          "text": [
            "       wt1  wt2  wt3  wt4  wt5  ko1   ko2   ko3  ko4  ko5\n",
            "gene1  179  171  174  184  182  220   230   252  245  246\n",
            "gene2  177  196  169  142  152  301   290   297  268  289\n",
            "gene3  116  109  110  122   96  232   251   210  239  258\n",
            "gene4   20   20   27   35   25  954  1012  1011  959  983\n",
            "gene5  789  829  837  779  832  593   633   579  576  601\n",
            "(100, 10)\n"
          ]
        }
      ],
      "source": [
        "## NOTE: This is Python 3 code.\n",
        "import pandas as pd\n",
        "import numpy as np\n",
        "import random as rd\n",
        "from sklearn.decomposition import PCA\n",
        "from sklearn import preprocessing\n",
        "import matplotlib.pyplot as plt # NOTE: This was tested with matplotlib v. 2.1.0\n",
        " \n",
        "#########################\n",
        "#\n",
        "# Data Generation Code\n",
        "#\n",
        "#########################\n",
        "## In this example, the data is in a data frame called data.\n",
        "## Columns are individual samples (i.e. cells)\n",
        "## Rows are measurements taken for all the samples (i.e. genes)\n",
        "## Just for the sake of the example, we'll use made up data...\n",
        "genes = ['gene' + str(i) for i in range(1,101)]\n",
        " \n",
        "wt = ['wt' + str(i) for i in range(1,6)]\n",
        "ko = ['ko' + str(i) for i in range(1,6)]\n",
        " \n",
        "data = pd.DataFrame(columns=[*wt, *ko], index=genes)\n",
        " \n",
        "for gene in data.index:\n",
        "    data.loc[gene,'wt1':'wt5'] = np.random.poisson(lam=rd.randrange(10,1000), size=5)\n",
        "    data.loc[gene,'ko1':'ko5'] = np.random.poisson(lam=rd.randrange(10,1000), size=5)\n",
        " \n",
        "print(data.head())\n",
        "print(data.shape)\n",
        " "
      ]
    },
    {
      "cell_type": "code",
      "source": [
        "#########################\n",
        "#\n",
        "# Perform PCA on the data\n",
        "#\n",
        "#########################\n",
        "# First center and scale the data\n",
        "scaled_data = preprocessing.scale(data.T)\n",
        " \n",
        "pca = PCA() # create a PCA object\n",
        "pca.fit(scaled_data) # do the math\n",
        "pca_data = pca.transform(scaled_data) # get PCA coordinates for scaled_data"
      ],
      "metadata": {
        "id": "iP8Xe-gpau71"
      },
      "execution_count": 3,
      "outputs": []
    },
    {
      "cell_type": "code",
      "source": [
        "\n",
        "#########################\n",
        "#\n",
        "# Draw a scree plot and a PCA plot\n",
        "#\n",
        "#########################\n",
        " \n",
        "#The following code constructs the Scree plot\n",
        "per_var = np.round(pca.explained_variance_ratio_* 100, decimals=1)\n",
        "labels = ['PC' + str(x) for x in range(1, len(per_var)+1)]\n",
        " \n",
        "plt.bar(x=range(1,len(per_var)+1), height=per_var, tick_label=labels)\n",
        "plt.ylabel('Percentage of Explained Variance')\n",
        "plt.xlabel('Principal Component')\n",
        "plt.title('Scree Plot')\n",
        "plt.show()\n",
        " \n",
        "#the following code makes a fancy looking plot using PC1 and PC2\n",
        "pca_df = pd.DataFrame(pca_data, index=[*wt, *ko], columns=labels)\n",
        " \n",
        "plt.scatter(pca_df.PC1, pca_df.PC2)\n",
        "plt.title('My PCA Graph')\n",
        "plt.xlabel('PC1 - {0}%'.format(per_var[0]))\n",
        "plt.ylabel('PC2 - {0}%'.format(per_var[1]))\n",
        " \n",
        "for sample in pca_df.index:\n",
        "    plt.annotate(sample, (pca_df.PC1.loc[sample], pca_df.PC2.loc[sample]))\n",
        " \n",
        "plt.show()\n",
        " "
      ],
      "metadata": {
        "colab": {
          "base_uri": "https://localhost:8080/",
          "height": 573
        },
        "id": "XpS-F1Jja1Ml",
        "outputId": "690f897e-d299-452f-e642-4bdef1c8c234"
      },
      "execution_count": 4,
      "outputs": [
        {
          "output_type": "display_data",
          "data": {
            "text/plain": [
              "<Figure size 432x288 with 1 Axes>"
            ],
            "image/png": "[encoded data removed]"
          },
          "metadata": {
            "needs_background": "light"
          }
        },
        {
          "output_type": "display_data",
          "data": {
            "text/plain": [
              "<Figure size 432x288 with 1 Axes>"
            ],
            "image/png": "[encoded data removed]"
          },
          "metadata": {
            "needs_background": "light"
          }
        }
      ]
    },
    {
      "cell_type": "code",
      "source": [
        "\n",
        "#########################\n",
        "#\n",
        "# Determine which genes had the biggest influence on PC1\n",
        "#\n",
        "#########################\n",
        " \n",
        "## get the name of the top 10 measurements (genes) that contribute\n",
        "## most to pc1.\n",
        "## first, get the loading scores\n",
        "loading_scores = pd.Series(pca.components_[0], index=genes)\n",
        "## now sort the loading scores based on their magnitude\n",
        "sorted_loading_scoresb = loading_scores.abs().sort_values(ascending=False)\n",
        " \n",
        "# get the names of the top 10 genes\n",
        "top_10_genes = sorted_loading_scores[0:10].index.values\n",
        " \n",
        "## print the gene names and their scores (and +/- sign)\n",
        "print(loading_scores[top_10_genes])"
      ],
      "metadata": {
        "colab": {
          "base_uri": "https://localhost:8080/"
        },
        "id": "U_x6puSqa2uS",
        "outputId": "78484433-15f6-4a43-abb8-208239e581fa"
      },
      "execution_count": 5,
      "outputs": [
        {
          "output_type": "stream",
          "name": "stdout",
          "text": [
            "gene60   -0.107503\n",
            "gene29    0.107496\n",
            "gene4     0.107460\n",
            "gene78    0.107452\n",
            "gene93   -0.107448\n",
            "gene50    0.107447\n",
            "gene80   -0.107422\n",
            "gene67   -0.107409\n",
            "gene19   -0.107405\n",
            "gene31   -0.107398\n",
            "dtype: float64\n"
          ]
        }
      ]
    }
  ]
}