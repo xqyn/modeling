{
 "cells": [
  {
   "cell_type": "markdown",
   "metadata": {
    "id": "EIfsUg-hzqiL"
   },
   "source": [
    "# Introduction\n",
    "In this practical you will learn two techniques explained during your lectures. The GLM and PCA. Small snippits of code have been added that you need to complete for the code to run. Take a look at the hints if you get stuck.\n",
    "If you have never used google colab before check out this documentation: https://colab.research.google.com/notebooks/intro.ipynb"
   ]
  },
  {
   "cell_type": "markdown",
   "metadata": {
    "id": "if41-JhqwWrx"
   },
   "source": [
    "# Preliminaries: Import necessary modules\n",
    "First, we will import the libraries needed to run the practical. In python, several toolboxes are regularly used: scipy (for maths), matplotlib (for plotting) and numpy (for arrays).\n",
    "All the code written in this script can be loaded using the play button on the left of the coding block."
   ]
  },
  {
   "cell_type": "code",
   "execution_count": null,
   "metadata": {
    "id": "9OnOC8Yw2rTe"
   },
   "outputs": [],
   "source": [
    "# basic modules\n",
    "import os\n",
    "import sys\n",
    "import numpy as np\n",
    "import pandas as pd\n",
    "import scipy.linalg as la\n",
    "import matplotlib.pyplot as plt"
   ]
  },
  {
   "cell_type": "markdown",
   "metadata": {
    "id": "BhN3YzvGzMpE"
   },
   "source": [
    "# Part 1: The General Linear Model\n"
   ]
  },
  {
   "cell_type": "markdown",
   "metadata": {
    "id": "JCFzkNmKzKNE"
   },
   "source": [
    "\n",
    "## 1.1 Generated data\n",
    "\n",
    "1. Let's generate some noisy data using a linear model with a single regressor and an intercept. Create x with 20 points using np.arange(). Set a (the intercept) at -10 and the slope at 2.5. Create y as in y = a + b * x."
   ]
  },
  {
   "cell_type": "code",
   "execution_count": null,
   "metadata": {
    "id": "xAb8SSSZzMpF"
   },
   "outputs": [],
   "source": [
    "x = \n",
    "intercept = \n",
    "slope = \n",
    "y = \n",
    "\n",
    "# add some noise\n",
    "y = y + 10 * np.random.normal(size=x.shape)"
   ]
  },
  {
   "cell_type": "markdown",
   "metadata": {
    "id": "OrT6HxdVzMpN"
   },
   "source": [
    "2. Now, let's plot the data y against x. Using the plt.plot() and plt.show function. Hint: use the help() (e.g. help(plt.plot) function if you do not know how to use a command in python."
   ]
  },
  {
   "cell_type": "code",
   "execution_count": null,
   "metadata": {
    "id": "mDPX4RaTzMpO"
   },
   "outputs": [],
   "source": [
    "# Put your plot here\n"
   ]
  },
  {
   "cell_type": "markdown",
   "metadata": {
    "id": "ke_lBrKwzMpV"
   },
   "source": [
    "3. Compare fitting a linear model with and without the intercept. To do this, we will first create two design matrices. Hint: use the np.ones() function to create an intercept of ones."
   ]
  },
  {
   "cell_type": "code",
   "execution_count": null,
   "metadata": {
    "colab": {
     "base_uri": "https://localhost:8080/"
    },
    "id": "zGOeH2UozMpV",
    "outputId": "b14aa4e9-6acd-41da-9b02-4b8cefde3c8e"
   },
   "outputs": [],
   "source": [
    "M1 = np.zeros((len(x),1))\n",
    "M1[:,0] = x\n",
    "\n",
    "M2 = np.zeros((len(x), 2))\n",
    "M2[:,0] = \n",
    "M2[:,1] = \n",
    "\n",
    "print('M1 =',M1)\n",
    "print('M2 =',M2)"
   ]
  },
  {
   "cell_type": "markdown",
   "metadata": {
    "id": "2CbSB46lzMpa"
   },
   "source": [
    "***Q. Do you understand why these design matrices look the way they do?*** "
   ]
  },
  {
   "cell_type": "markdown",
   "metadata": {
    "id": "BXvd8iBMzMpb"
   },
   "source": [
    "4. Now fit these GLM models (i.e. find the best values for beta).\n",
    "\n",
    "**Some Tips:**\n",
    "* you can use the numpy function np.linalg.pinv()\n",
    "* Remember that by default the * operator in python means element-wise product. To do matrix multiplication use the .dot() operation. For example, to compute the matrix vector product **M** * **x** you would use **M**.dot(**x**)"
   ]
  },
  {
   "cell_type": "code",
   "execution_count": null,
   "metadata": {
    "colab": {
     "base_uri": "https://localhost:8080/"
    },
    "id": "3G1H1UvizMpb",
    "outputId": "aa2311ee-01bb-4979-fd66-a76c674184a3"
   },
   "outputs": [],
   "source": [
    "beta1 = \n",
    "beta2 = \n",
    "\n",
    "print(beta1)\n",
    "print(beta2)"
   ]
  },
  {
   "cell_type": "markdown",
   "metadata": {
    "id": "tAqPf_VrzMpg"
   },
   "source": [
    "***Q. How should we interpret the values of beta1 and beta2? how do they relate to the design matrices you have specified above?***"
   ]
  },
  {
   "cell_type": "markdown",
   "metadata": {
    "id": "_ckNtf3gzMph"
   },
   "source": [
    "7. Find the predicted y values using another dot product and plot the two models against the data:"
   ]
  },
  {
   "cell_type": "code",
   "execution_count": null,
   "metadata": {
    "id": "26vbHkeLzMph"
   },
   "outputs": [],
   "source": [
    "plt.plot(x, y, 'x')\n",
    "ypred1 = \n",
    "ypred2 = \n",
    "plt.plot(x, ypred1,'b')\n",
    "plt.plot(x, ypred2,'r')\n",
    "\n",
    "plt.grid()\n",
    "plt.show()"
   ]
  },
  {
   "cell_type": "markdown",
   "metadata": {
    "id": "ypEG6QSuzMpm"
   },
   "source": [
    "Note how the red line must go through the origin (0,0), as there is no intercept in the model (the intercept is always zero). \n",
    "\n",
    "Note also how in this case the slope is higher when modelling the intercept. If we were to do statistics on this slope coefficient (to determine if it were significantly different from zero), would we find it more or less significant than if we hadn't modelled the intercept?\n"
   ]
  },
  {
   "cell_type": "markdown",
   "metadata": {
    "id": "k0oGuzmmzMpn"
   },
   "source": [
    "8. (Optional) Compare fitting the same M2 model (i.e. with a column of one's as a regressor), with and without demeaning x (to demean x, you’ll want to subtract the mean of x off of each element of x): "
   ]
  },
  {
   "cell_type": "code",
   "execution_count": null,
   "metadata": {
    "colab": {
     "base_uri": "https://localhost:8080/"
    },
    "id": "66aFAL7rzMpn",
    "outputId": "8f89999e-1c53-49f0-9b86-8f04647a4593"
   },
   "outputs": [],
   "source": [
    "xm = x - np.mean(x)\n",
    "\n",
    "M3 = np.zeros((len(x), 2))\n",
    "M3[:,0] = xm\n",
    "M3[:,1] = np.ones(len(x))\n",
    "\n",
    "beta3 = np.linalg.pinv(M3).dot(y)\n",
    "print(beta3)"
   ]
  },
  {
   "cell_type": "markdown",
   "metadata": {
    "id": "Nz3ulf_yzMpr"
   },
   "source": [
    "***Q. (Optional) How do we interpret the values in beta3 after demeaning x?***"
   ]
  },
  {
   "cell_type": "markdown",
   "metadata": {
    "id": "NL4gc_VgzMpr"
   },
   "source": [
    "## 1.2 Real data\n",
    "1. Now, let's have some fun with some real data ... First, load the Oxford Weather dataset that we already looked at in the. If you were smart and saved it, you can just load the pickled dataset. If you didn't do that, take a look at the Pandas demo on [Github](https://github.com/predictive-clinical-neuroscience/BigDataCourse/blob/main/demos/) and do that now ;)"
   ]
  },
  {
   "cell_type": "code",
   "execution_count": null,
   "metadata": {
    "id": "bMpfCoFPOXEQ"
   },
   "outputs": [],
   "source": [
    "# If you are not connected to your drive anymore run this snippet again\n",
    "from google.colab import drive\n",
    "drive.mount('/content/drive') \n",
    "os.chdir('drive/My Drive/BMS85/data') "
   ]
  },
  {
   "cell_type": "markdown",
   "metadata": {
    "id": "kZgz0Y_t0vHH"
   },
   "source": [
    "2. Load the previously pickled dataset:"
   ]
  },
  {
   "cell_type": "code",
   "execution_count": null,
   "metadata": {
    "id": "qLupDjcZ0sUq"
   },
   "outputs": [],
   "source": [
    "df = pd.read_pickle('OxfordWeather.pkl')"
   ]
  },
  {
   "cell_type": "markdown",
   "metadata": {
    "id": "FPwmsQIR1CwD"
   },
   "source": [
    "3. We are going to fit a polynomial model to the oxfordweather data again, but this time making our own design matrix. We want to predict the mean temperature (y) from the month (x). "
   ]
  },
  {
   "cell_type": "code",
   "execution_count": null,
   "metadata": {
    "id": "rZVOJ_F3Rz-l"
   },
   "outputs": [],
   "source": [
    "x = df['month'].to_numpy()\n",
    "y = df['meanTemp'].to_numpy()"
   ]
  },
  {
   "cell_type": "markdown",
   "metadata": {
    "id": "gGjTbE681ntk"
   },
   "source": [
    "4. Now we will make three design matrixes: a linear model without intercept, a linear model with intercept and a polynomial model of order 2. The design matrix will contain an extra column containing x-squared (in python code x**2). (see also in the Pandas demo print(xp) for an example of what the design matrix should look like)"
   ]
  },
  {
   "cell_type": "code",
   "execution_count": null,
   "metadata": {
    "id": "zAt2LQVvScXo"
   },
   "outputs": [],
   "source": [
    "M1 = np.zeros((len(x),1))\n",
    "M1[:,0] = \n",
    "\n",
    "M2 = np.zeros((len(x), 2))\n",
    "M2[:,0] = \n",
    "M2[:,1] = \n",
    "\n",
    "M3 = np.zeros((len(x),3))\n",
    "M3[:,0] = \n",
    "M3[:,1] = \n",
    "M3[:,2] = \n",
    "\n",
    "print(M3)"
   ]
  },
  {
   "cell_type": "markdown",
   "metadata": {
    "id": "TaoYKONB2HXu"
   },
   "source": [
    "5. Then we will calculate the betas again, as previously done in part 1.1, using the np.linalg.pinv() function:"
   ]
  },
  {
   "cell_type": "code",
   "execution_count": null,
   "metadata": {
    "colab": {
     "base_uri": "https://localhost:8080/"
    },
    "id": "CY_X_JOSSN0k",
    "outputId": "ae6ab2d5-2669-49c5-d787-4d89b899d857"
   },
   "outputs": [],
   "source": [
    "beta1 = \n",
    "beta2 = \n",
    "beta3 = \n",
    "\n",
    "print(beta1)\n",
    "print(beta2)\n",
    "print(beta3)"
   ]
  },
  {
   "cell_type": "markdown",
   "metadata": {
    "id": "NAKUo9p14jZI"
   },
   "source": [
    "***Q. How can we intrepret beta3?***\n"
   ]
  },
  {
   "cell_type": "markdown",
   "metadata": {
    "id": "ja6F0wAj2UIP"
   },
   "source": [
    "6. Finally, we will plot the three models and compare them."
   ]
  },
  {
   "cell_type": "code",
   "execution_count": null,
   "metadata": {
    "id": "nCPRU4bRTtlI"
   },
   "outputs": [],
   "source": [
    "# We will transform the data a bit to plot the polynomial correctly:\n",
    "x2 = np.linspace(1,12,12)\n",
    "x2 = x2[:, np.newaxis]\n",
    "ypred1 = \n",
    "ypred2 = \n",
    "ypred3 = M3.dot(beta3)[0:np.size(x2)]\n",
    "plt.plot(x, y, 'x')\n",
    "plt.plot(x, ypred1,'b')\n",
    "plt.plot(x, ypred2,'r')\n",
    "plt.plot(x2, ypred3, 'g')\n",
    "\n",
    "plt.grid()\n",
    "plt.show()"
   ]
  },
  {
   "cell_type": "markdown",
   "metadata": {
    "id": "8nsZQtkc2aoX"
   },
   "source": [
    "***Q. Can you adapt the code to make a polynomial model of order 3? Hint: Make an M4 design matrix including a fourth column with x^3***"
   ]
  },
  {
   "cell_type": "markdown",
   "metadata": {
    "id": "hfy3GLO9zMpu"
   },
   "source": [
    "# Part 2: Principal Components Analysis \n"
   ]
  },
  {
   "cell_type": "markdown",
   "metadata": {
    "id": "5ZF_uwaqzezz"
   },
   "source": [
    "\n",
    "## 2.1 Load data\n",
    "\n",
    "We are going to perform a dimensionality reduction technique called principal component analysis (PCA). Let's perform PCA on some interesting data. Download the mill image from brightspace and upload it on the left hand side under files. Show it using the imshow() function:\n",
    "\n",
    "First, we need to get the data\n"
   ]
  },
  {
   "cell_type": "markdown",
   "metadata": {
    "id": "Mx_jjK-FznBl"
   },
   "source": [
    "\n",
    "### Option 1: Download to your Google drive\n",
    "\n",
    "You will need to download the file *mill.npy* from the following location and save it to your google drive\n",
    "\n",
    "[GitHub data](https://github.com/predictive-clinical-neuroscience/BigDataCourse/blob/main/data/)"
   ]
  },
  {
   "cell_type": "code",
   "execution_count": null,
   "metadata": {
    "id": "j9hRndJyzMpv"
   },
   "outputs": [],
   "source": [
    "# needed for you to be able to save the necessary data to your google drive\n",
    "from google.colab import drive\n",
    "drive.mount('/content/drive')\n",
    "\n",
    "# change dir to data on your google drive\n",
    "# change BMS85/data to where you saved mill.mat \n",
    "os.chdir('drive/My Drive/BMS85/data/') "
   ]
  },
  {
   "cell_type": "markdown",
   "metadata": {
    "id": "Lrqf-TsIzMpy"
   },
   "source": [
    "### Option 2: Download directly from GitHub"
   ]
  },
  {
   "cell_type": "code",
   "execution_count": null,
   "metadata": {
    "id": "GoyM-1hczMpy",
    "outputId": "67d78f76-bb86-4828-ab15-f90cd413d73f"
   },
   "outputs": [],
   "source": [
    "!wget -nc https://raw.githubusercontent.com/predictive-clinical-neuroscience/BigDataCourse/main/data/mill.npy"
   ]
  },
  {
   "cell_type": "markdown",
   "metadata": {
    "id": "7LJVSmoZzMp2"
   },
   "source": [
    "Now, we can actually do the work. We quickly plot the image using imshow: "
   ]
  },
  {
   "cell_type": "code",
   "execution_count": null,
   "metadata": {
    "colab": {
     "base_uri": "https://localhost:8080/",
     "height": 426
    },
    "id": "-mdmYVYV3FJu",
    "outputId": "23a12818-1d3c-4694-a781-c9e649bfde3e"
   },
   "outputs": [
    {
     "data": {
      "text/plain": [
       "Text(0.5, 1.0, 'original')"
      ]
     },
     "execution_count": 4,
     "metadata": {
      "tags": []
     },
     "output_type": "execute_result"
    },
    {
     "data": {
      "image/png": "[encoded data removed]",
      "text/plain": [
       "<Figure size 432x288 with 1 Axes>"
      ]
     },
     "metadata": {
      "needs_background": "light",
      "tags": []
     },
     "output_type": "display_data"
    }
   ],
   "source": [
    "img = np.load('mill.npy')\n",
    "plt.figure()\n",
    "plt.imshow(img)\n",
    "plt.title('original')"
   ]
  },
  {
   "cell_type": "markdown",
   "metadata": {
    "id": "FXtmWujktIvg"
   },
   "source": [
    "## 2.2 Perform PCA\n",
    "PCA is performed by an eigendecomposition of the covariance matrix. Putting the mathematics aside; \n",
    "1. We subtract the np.mean() from the image. \n",
    "2. We calculate the covariance using the np.cov() function of x transposed (x.T)\n",
    "3. We find the eigenvalues and eigenvectors using the la.eig() function. \n",
    "For more details of each function look at the numpy documentation (https://numpy.org/doc/stable/reference/routines.linalg.html)."
   ]
  },
  {
   "cell_type": "code",
   "execution_count": null,
   "metadata": {
    "id": "vuyGLsTksslK"
   },
   "outputs": [],
   "source": [
    "x = img\n",
    "m = \n",
    "x = x - np.tile(m,[np.size(x,0),1]) # subtract the mean\n",
    "covmat = \n",
    "[evals, evecs] = "
   ]
  },
  {
   "cell_type": "markdown",
   "metadata": {
    "id": "07GPTy_mtsWn"
   },
   "source": [
    "Now we compute the total percentage of variance explained by eigenvectors 1, 1:2, 1:3, ..., 1:n. Then plot the results against the number of eigenvectors that contributed to the total variance explained:"
   ]
  },
  {
   "cell_type": "code",
   "execution_count": null,
   "metadata": {
    "colab": {
     "base_uri": "https://localhost:8080/",
     "height": 333
    },
    "id": "ocUE9iaQtrcA",
    "outputId": "84d25e02-864e-4151-84e9-1a0a0cc2f388"
   },
   "outputs": [],
   "source": [
    "pve = np.cumsum(evals)/np.sum(evals)*100\n",
    "plt.figure()\n",
    "plt.plot(range(0,np.size(evals)),pve)\n",
    "plt.xlabel('number of eigenvectors');\n",
    "plt.ylabel('percent variance explained');"
   ]
  },
  {
   "cell_type": "markdown",
   "metadata": {
    "id": "sTNCN2JXt3DM"
   },
   "source": [
    "Create a vector ‘keep’ that indicates which of the top eigenvectors to keep if we wish to explain at least 90% of the total variance:"
   ]
  },
  {
   "cell_type": "code",
   "execution_count": null,
   "metadata": {
    "id": "XsKK5YrXt2TB"
   },
   "outputs": [],
   "source": [
    "keep =  # use < to select smaller than\n"
   ]
  },
  {
   "cell_type": "markdown",
   "metadata": {
    "id": "Lod8k4pRuJNK"
   },
   "source": [
    "How many eigenvectors do we need to explain at least 90% of the variance? Hint: use the sum() function"
   ]
  },
  {
   "cell_type": "code",
   "execution_count": null,
   "metadata": {
    "colab": {
     "base_uri": "https://localhost:8080/",
     "height": 34
    },
    "id": "m0nM8aLHuId3",
    "outputId": "17029aef-67ec-4325-99aa-04d528081dc8"
   },
   "outputs": [
    {
     "name": "stdout",
     "output_type": "stream",
     "text": [
      "22\n"
     ]
    }
   ],
   "source": [
    "n = \n",
    "print(n)"
   ]
  },
  {
   "cell_type": "markdown",
   "metadata": {
    "id": "8KdQjAxOuTu0"
   },
   "source": [
    "Overwrite ‘evecs’ so that it contains only the eigenvectors indicated by ‘keep’ (this is the reduced PCA space):"
   ]
  },
  {
   "cell_type": "code",
   "execution_count": null,
   "metadata": {
    "id": "ShRU9M2juS6b"
   },
   "outputs": [],
   "source": [
    "evecs = "
   ]
  },
  {
   "cell_type": "markdown",
   "metadata": {
    "id": "AsnQJ0lUuYcQ"
   },
   "source": [
    "Compute the scores of x in the reduced PCA space by pre-multiplying the eigenvectors in evecs by x, using the np.dot() function:"
   ]
  },
  {
   "cell_type": "code",
   "execution_count": null,
   "metadata": {
    "id": "8KlvM0iLuX0L"
   },
   "outputs": [],
   "source": [
    "scores = "
   ]
  },
  {
   "cell_type": "markdown",
   "metadata": {
    "id": "eIjIypG8uoTf"
   },
   "source": [
    "## 2.3 Dimensionality reduction\n",
    "Now we can reconstruct the image using the scores by post-multiplying them by the transpose of evecs and then adding the mean back again:\n"
   ]
  },
  {
   "cell_type": "code",
   "execution_count": null,
   "metadata": {
    "colab": {
     "base_uri": "https://localhost:8080/",
     "height": 298
    },
    "id": "tUAA-DRVulPE",
    "outputId": "3ec2c56e-6f30-433e-d56c-3e018fbac1b0"
   },
   "outputs": [
    {
     "data": {
      "text/plain": [
       "Text(0.5, 1.0, 'compressed')"
      ]
     },
     "execution_count": 22,
     "metadata": {
      "tags": []
     },
     "output_type": "execute_result"
    },
    {
     "data": {
      "image/png": "[encoded data removed]",
      "text/plain": [
       "<Figure size 432x288 with 1 Axes>"
      ]
     },
     "metadata": {
      "needs_background": "light",
      "tags": []
     },
     "output_type": "display_data"
    }
   ],
   "source": [
    "y = np.dot(scores, evecs.T) # Use the np.dot()\n",
    "y = # put the mean back just in 2.2 with np.tile\n",
    "\n",
    "plt.figure()\n",
    "plt.imshow(y)\n",
    "plt.title('compressed')"
   ]
  },
  {
   "cell_type": "markdown",
   "metadata": {
    "id": "4mT0KrW6u_dR"
   },
   "source": [
    "As you can see we can reconstruct the original image pretty well using only a subset of the eigenvectors. This means that instead of needing all of the information in ‘img’ we can just store the information in ‘evecs’ and ‘scores’. Let’s see how much storage space this saves us and then compute the compression ratio:"
   ]
  },
  {
   "cell_type": "code",
   "execution_count": null,
   "metadata": {
    "id": "HFpPUU2bu-3u"
   },
   "outputs": [],
   "source": [
    "kb_img = sys.getsizeof(x)/1000\n",
    "print(['original image: ' + np.str(kb_img) + ' kb'])\n",
    "kb_y = (sys.getsizeof(scores) + sys.getsizeof(evecs))/1000\n",
    "print(['compressed image: ' + np.str(kb_y) + ' kb']);\n",
    "compr_pct = (1 - kb_y / kb_img) * 100\n",
    "print(['compression ratio: ' + np.str(compr_pct) + ' %'])"
   ]
  }
 ],
 "metadata": {
  "colab": {
   "collapsed_sections": [],
   "name": "GLM_PCA_practical_no_answers.ipynb",
   "provenance": [],
   "toc_visible": true
  },
  "kernelspec": {
   "display_name": "Python 3",
   "language": "python",
   "name": "python3"
  },
  "language_info": {
   "codemirror_mode": {
    "name": "ipython",
    "version": 3
   },
   "file_extension": ".py",
   "mimetype": "text/x-python",
   "name": "python",
   "nbconvert_exporter": "python",
   "pygments_lexer": "ipython3",
   "version": "3.6.12"
  }
 },
 "nbformat": 4,
 "nbformat_minor": 4
}
