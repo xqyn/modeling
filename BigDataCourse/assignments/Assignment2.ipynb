{
 "cells": [
  {
   "cell_type": "markdown",
   "metadata": {
    "id": "9-WtMrHSsHiu"
   },
   "source": [
    "In this first part of the assignement, we are going to load the summary results from a Genome-Wide Association Study (GWAS) and examine its results. In the second part, we examine the mouse homologous gene. "
   ]
  },
  {
   "cell_type": "code",
   "execution_count": null,
   "metadata": {
    "id": "UJWXX-SlnOCD"
   },
   "outputs": [],
   "source": [
    "# Run this cell to download the table. This is provided to the students. \n",
    "! wget https://www.dropbox.com/s/zmjefs8vk57srw0/MDD2018_ex23andMe.txt"
   ]
  },
  {
   "cell_type": "markdown",
   "metadata": {
    "id": "vkXDxly4sM5Y"
   },
   "source": [
    "## Task 1.1 Summarize the GWAS results\n",
    "\n",
    "\n",
    "\n",
    "Load the MDD2018_ex23andMe table \n",
    "* How many SNP were tested?  \n",
    "Find the **second** most significant SNP\n",
    "* What is its rs identifier? What is its P-value? \n",
    "* On which chromosome is it? What is its basepair location? \n",
    "* Using an online database: In which gene is this second top SNP? \n",
    "* How come does the basepair location differs from the basepair location in the downloaded GWAS statistics?\n",
    "* Where is this gene most expressed in the body? \n",
    "\n"
   ]
  },
  {
   "cell_type": "markdown",
   "metadata": {
    "id": "3ePU355NsZ7d"
   },
   "source": [
    "## Task 1.2 Microarray database\n",
    "In the Allen Institute microarray database, search for expression patterns of PGBD1: https://human.brain-map.org/microarray/search. \n",
    "\n",
    "Select the top row (probe) and download this data. Read the \"Contents.txt\" file. Load the Expression.csv file and the Columns.csv file in python. (**hint:** In google Colab, you can upload file into the environement by clicking on the 'file' icon on the top left corner). \n",
    "\n",
    "Calculate the mean expression accross participants per structure. (**hint:** this will require some reformatting of the data using both Expression.csv and Column.csv!)\n",
    "\n",
    "*   In which brain structure does this gene have the highest mean expression? \n",
    "*   How many missing values are there for the expression of this gene across all brain regions? And for the brain region with the highest expression?\n",
    "*   Does PGBD1 look consistently highly expressed across subjects in this top region? \n",
    "*   What do you think is a safe conclusion regarding the general regional expression pattern of PGBD1 in the brain? (**hint:** bigger may be better)\n",
    "\n"
   ]
  },
  {
   "cell_type": "markdown",
   "metadata": {
    "id": "jzU3COJDxynn"
   },
   "source": []
  },
  {
   "cell_type": "markdown",
   "metadata": {
    "id": "hE08f8M2sdci"
   },
   "source": [
    "## Task 2.1 Find the homologous gene in the mouse\n",
    "* What is it Entrez Gene ID?\n",
    "* Is the mouse gene expressed in similar organs as the human gene? \n",
    "* According to the international mouse phenotyping consortium, what are the list of systems affected by deletion of this gene? "
   ]
  },
  {
   "cell_type": "markdown",
   "metadata": {
    "id": "v-E4bV8usgLy"
   },
   "source": [
    "## Task 2.2 Examine gene expression in the brain\n",
    "\n",
    "Using the in-situ mouse brain gene expression database, can you: \n",
    "* Find the experiment ID \n",
    "\n",
    "Run the code below to download the image and load it into your environement. \n",
    "* What is the dimension of the gene expression maps (stored into the *gene_energy* variable)? what about the template (stored into the *template* variable)? \n",
    "* Can you correct the gene expression maps so that it fits the dimension of the template? (**hint:** you will need to swap axis and resample the image) \n",
    "* Plot 1 coronal and 2 saggital images, showing the template as an underlay and the gene expression as an overlay. Select the slices where there is visible expression.\n",
    "* Does the gene expression cover the whole brain?\n",
    "* What areas of the brain show the highest expression? (**hint:** you can use this atlas as a reference. https://atlas.brain-map.org/atlas?atlas=2) \n"
   ]
  },
  {
   "cell_type": "markdown",
   "metadata": {
    "id": "EV4gcOjevBMi"
   },
   "source": [
    "The code below installs the Allen Software Development Kit and loads the gene expression map for experiment ID *experimentID*.   \n",
    "\n",
    "**Don't forget to refresh the runtime once packages have been installed.** "
   ]
  },
  {
   "cell_type": "code",
   "execution_count": null,
   "metadata": {
    "id": "8buq1_zHplQp"
   },
   "outputs": [],
   "source": [
    "# Install Allen SDK. This is provided to the students. \n",
    "!pip install allensdk\n",
    "!pip install --upgrade pandas"
   ]
  },
  {
   "cell_type": "code",
   "execution_count": null,
   "metadata": {
    "id": "-ibeW17Eu5ma"
   },
   "outputs": [],
   "source": [
    "experimentID =   #fill in the experiment ID to download the corresponding map"
   ]
  },
  {
   "cell_type": "code",
   "execution_count": null,
   "metadata": {
    "id": "boz1L-11rT4j"
   },
   "outputs": [],
   "source": [
    "# Download the tempalte. This is provided to the students. \n",
    "from allensdk.core.mouse_connectivity_cache import MouseConnectivityCache \n",
    "mcc = MouseConnectivityCache(resolution=100)\n",
    "template = mcc.get_template_volume()"
   ]
  },
  {
   "cell_type": "code",
   "execution_count": null,
   "metadata": {
    "id": "-HsVlqKPpB-Q"
   },
   "outputs": [],
   "source": [
    "# Download the gene expression map according to its ID. This is provided to the students. \n",
    "from allensdk.api.queries.grid_data_api import GridDataApi\n",
    "\n",
    "gda = GridDataApi()\n",
    "gda.download_gene_expression_grid_data(section_data_set_id=experimentID, \n",
    "                                                       volume_type=GridDataApi.ENERGY, path='/content/')"
   ]
  },
  {
   "cell_type": "code",
   "execution_count": null,
   "metadata": {
    "id": "FXfkgtljqkVy"
   },
   "outputs": [],
   "source": [
    "# Load the gene expression into an array. This is provided to the students. \n",
    "import skimage.io as io\n",
    "gene_energy = io.imread('/content/energy.mhd', plugin='simpleitk')"
   ]
  }
 ],
 "metadata": {
  "colab": {
   "collapsed_sections": [],
   "name": "Assignment2.ipynb",
   "provenance": []
  },
  "kernelspec": {
   "display_name": "Python 3",
   "language": "python",
   "name": "python3"
  },
  "language_info": {
   "codemirror_mode": {
    "name": "ipython",
    "version": 3
   },
   "file_extension": ".py",
   "mimetype": "text/x-python",
   "name": "python",
   "nbconvert_exporter": "python",
   "pygments_lexer": "ipython3",
   "version": "3.6.12"
  }
 },
 "nbformat": 4,
 "nbformat_minor": 4
}
