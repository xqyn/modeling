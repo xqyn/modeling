{
  "nbformat": 4,
  "nbformat_minor": 0,
  "metadata": {
    "colab": {
      "name": "stat.ipynb",
      "provenance": [],
      "authorship_tag": "ABX9TyO0U+Vviu8omss8EFTUC3I+",
      "include_colab_link": true
    },
    "kernelspec": {
      "name": "python3",
      "display_name": "Python 3"
    },
    "language_info": {
      "name": "python"
    }
  },
  "cells": [
    {
      "cell_type": "markdown",
      "metadata": {
        "id": "view-in-github",
        "colab_type": "text"
      },
      "source": [
        "<a href=\"https://colab.research.google.com/github/xqyn/Modeling/blob/main/modeling-and-ML/model/stat.ipynb\" target=\"_parent\"><img src=\"https://colab.research.google.com/assets/colab-badge.svg\" alt=\"Open In Colab\"/></a>"
      ]
    },
    {
      "cell_type": "code",
      "execution_count": null,
      "metadata": {
        "id": "nS2kqEM27Orm"
      },
      "outputs": [],
      "source": [
        "skjdhfksjdhf\n",
        "hsdjhfgsdjhfg"
      ]
    },
    {
      "cell_type": "code",
      "source": [
        "sdjkfhsdjk"
      ],
      "metadata": {
        "id": "aPcLP7RGFW-G"
      },
      "execution_count": null,
      "outputs": []
    },
    {
      "cell_type": "code",
      "source": [
        "askdalskjd"
      ],
      "metadata": {
        "id": "1Red5pgbFXUa"
      },
      "execution_count": null,
      "outputs": []
    },
    {
      "cell_type": "code",
      "source": [
        "nguyen xuan quy"
      ],
      "metadata": {
        "id": "ltlL3JagFXwO",
        "outputId": "deae7e6f-9c14-43e9-e9fe-ff9421c17ce4",
        "colab": {
          "base_uri": "https://localhost:8080/",
          "height": 131
        }
      },
      "execution_count": 2,
      "outputs": [
        {
          "output_type": "error",
          "ename": "SyntaxError",
          "evalue": "ignored",
          "traceback": [
            "\u001b[0;36m  File \u001b[0;32m\"<ipython-input-2-35ad66de627e>\"\u001b[0;36m, line \u001b[0;32m1\u001b[0m\n\u001b[0;31m    nguyen xuan quy\u001b[0m\n\u001b[0m              ^\u001b[0m\n\u001b[0;31mSyntaxError\u001b[0m\u001b[0;31m:\u001b[0m invalid syntax\n"
          ]
        }
      ]
    },
    {
      "cell_type": "code",
      "source": [
        "1+1"
      ],
      "metadata": {
        "id": "ain_wlPRFYaB",
        "outputId": "cda4753a-f5b6-4358-e069-cb989ce1050b",
        "colab": {
          "base_uri": "https://localhost:8080/"
        }
      },
      "execution_count": 1,
      "outputs": [
        {
          "output_type": "execute_result",
          "data": {
            "text/plain": [
              "2"
            ]
          },
          "metadata": {},
          "execution_count": 1
        }
      ]
    }
  ]
}